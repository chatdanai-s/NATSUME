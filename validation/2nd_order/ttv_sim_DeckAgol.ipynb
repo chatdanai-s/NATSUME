{
 "cells": [
  {
   "cell_type": "code",
   "execution_count": 1,
   "id": "9049934d-4a11-4c50-8bb0-58608d96025e",
   "metadata": {},
   "outputs": [],
   "source": [
    "import sys\n",
    "import os\n",
    "# add parent directory (where \"natsume\" lives) to sys.path so I can import natsume\n",
    "sys.path.append(r\"C:\\Users\\WBS\\Desktop\\EXOPLANET WORK\\006 NATSUME\")\n",
    "import natsume\n",
    "\n",
    "import ttv_curvefit.curvefit as ttvfit  # custom-written\n",
    "import ttvfast\n",
    "from ttvfast import models\n",
    "\n",
    "import pandas as pd\n",
    "import numpy as np\n",
    "from astropy import units as u\n",
    "from astropy.constants import M_earth\n",
    "import matplotlib.pyplot as plt\n",
    "from matplotlib.ticker import ScalarFormatter"
   ]
  },
  {
   "cell_type": "code",
   "execution_count": null,
   "id": "77efc445-6479-4d2f-b97a-1e80493ff8ba",
   "metadata": {},
   "outputs": [],
   "source": [
    "# Create 10000 samples for TTVFast"
   ]
  },
  {
   "cell_type": "code",
   "execution_count": null,
   "id": "914e3eec-70a0-45f5-87f5-612fb7afd8bb",
   "metadata": {},
   "outputs": [],
   "source": [
    "# TTVFast simulation"
   ]
  },
  {
   "cell_type": "code",
   "execution_count": null,
   "id": "cd50a4a7-465c-46a3-81fa-00ac17e4480d",
   "metadata": {},
   "outputs": [],
   "source": [
    "# Export Outputs"
   ]
  }
 ],
 "metadata": {
  "kernelspec": {
   "display_name": "Python 3 (ipykernel)",
   "language": "python",
   "name": "python3"
  },
  "language_info": {
   "codemirror_mode": {
    "name": "ipython",
    "version": 3
   },
   "file_extension": ".py",
   "mimetype": "text/x-python",
   "name": "python",
   "nbconvert_exporter": "python",
   "pygments_lexer": "ipython3",
   "version": "3.11.7"
  }
 },
 "nbformat": 4,
 "nbformat_minor": 5
}
