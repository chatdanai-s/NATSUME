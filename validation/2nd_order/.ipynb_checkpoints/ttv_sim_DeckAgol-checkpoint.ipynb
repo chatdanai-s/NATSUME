{
 "cells": [
  {
   "cell_type": "code",
   "execution_count": 2,
   "id": "9049934d-4a11-4c50-8bb0-58608d96025e",
   "metadata": {},
   "outputs": [],
   "source": [
    "import sys\n",
    "import os\n",
    "# add parent directory (where \"natsume\" lives) to sys.path so I can import natsume\n",
    "sys.path.append(r\"C:\\Users\\WBS\\Desktop\\EXOPLANET WORK\\006 NATSUME\")\n",
    "import natsume\n",
    "\n",
    "import ttv_curvefit.curvefit as ttvfit  # custom-written\n",
    "import ttvfast\n",
    "from ttvfast import models\n",
    "\n",
    "import pandas as pd\n",
    "import numpy as np\n",
    "from astropy import units as u\n",
    "from astropy.constants import M_earth\n",
    "import matplotlib.pyplot as plt\n",
    "from matplotlib.ticker import ScalarFormatter"
   ]
  },
  {
   "cell_type": "code",
   "execution_count": 1,
   "id": "77efc445-6479-4d2f-b97a-1e80493ff8ba",
   "metadata": {},
   "outputs": [
    {
     "ename": "NameError",
     "evalue": "name 'np' is not defined",
     "output_type": "error",
     "traceback": [
      "\u001b[31m---------------------------------------------------------------------------\u001b[39m",
      "\u001b[31mNameError\u001b[39m                                 Traceback (most recent call last)",
      "\u001b[36mCell\u001b[39m\u001b[36m \u001b[39m\u001b[32mIn[1]\u001b[39m\u001b[32m, line 4\u001b[39m\n\u001b[32m      2\u001b[39m size = \u001b[32m1000\u001b[39m\n\u001b[32m      3\u001b[39m mu1 = \u001b[32m1e-5\u001b[39m; mu2 = \u001b[32m1e-5\u001b[39m\n\u001b[32m----> \u001b[39m\u001b[32m4\u001b[39m e1 = \u001b[32m10\u001b[39m**np.random.uniform(low=-\u001b[32m3\u001b[39m, high=-\u001b[32m1\u001b[39m, size=size); e2 = e1.copy()\n\u001b[32m      5\u001b[39m w1 = np.random.uniform(low=\u001b[32m0\u001b[39m, high=\u001b[32m360\u001b[39m, size=size); w2 = w1.copy() + np.random.choice([\u001b[32m0\u001b[39m, \u001b[32m180\u001b[39m], size=size)\n\u001b[32m      6\u001b[39m Delta = np.random.uniform(low=-\u001b[32m0.01\u001b[39m, high=\u001b[32m0.01\u001b[39m)\n",
      "\u001b[31mNameError\u001b[39m: name 'np' is not defined"
     ]
    }
   ],
   "source": [
    "# Create 1000 samples for TTVFast\n",
    "size = 1000\n",
    "mu1 = 1e-5; mu2 = 1e-5\n",
    "e1 = 10**np.random.uniform(low=-3, high=-1, size=size); e2 = e1.copy()\n",
    "w1 = np.random.uniform(low=0, high=360, size=size); w2 = w1.copy() + np.random.choice([0, 180], size=size)\n",
    "Delta = np.random.uniform(low=-0.01, high=0.01)\n",
    "j = 5; N = 2\n",
    "P1 = 7; P2 = P1 * (Delta + 1) * j / (j-N)\n",
    "\n",
    "# Compile to dataframe\n",
    "df = pd.DataFrame({\n",
    "    'e1': e1, 'w1': w1,\n",
    "    'e2': e2, 'w2': w2,\n",
    "    'Delta': Delta, 'j': j, 'N': N,\n",
    "    'P1': 7, 'P2': P2,\n",
    "    'mu1': mu1, 'mu2': mu2,\n",
    "})\n",
    "df.head()"
   ]
  },
  {
   "cell_type": "code",
   "execution_count": null,
   "id": "914e3eec-70a0-45f5-87f5-612fb7afd8bb",
   "metadata": {},
   "outputs": [],
   "source": [
    "# TTVFast simulation"
   ]
  },
  {
   "cell_type": "code",
   "execution_count": null,
   "id": "cd50a4a7-465c-46a3-81fa-00ac17e4480d",
   "metadata": {},
   "outputs": [],
   "source": [
    "# Export Outputs"
   ]
  }
 ],
 "metadata": {
  "kernelspec": {
   "display_name": "Python 3 (ipykernel)",
   "language": "python",
   "name": "python3"
  },
  "language_info": {
   "codemirror_mode": {
    "name": "ipython",
    "version": 3
   },
   "file_extension": ".py",
   "mimetype": "text/x-python",
   "name": "python",
   "nbconvert_exporter": "python",
   "pygments_lexer": "ipython3",
   "version": "3.11.7"
  }
 },
 "nbformat": 4,
 "nbformat_minor": 5
}
