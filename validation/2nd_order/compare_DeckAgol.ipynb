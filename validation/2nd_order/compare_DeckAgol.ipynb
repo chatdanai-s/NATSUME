{
 "cells": [
  {
   "cell_type": "code",
   "execution_count": null,
   "id": "e5ec7d57-8a28-4ca9-9eec-d63442333734",
   "metadata": {},
   "outputs": [],
   "source": []
  },
  {
   "cell_type": "code",
   "execution_count": null,
   "id": "dfdd3da3-2ea7-403d-ac2e-6689d0b90535",
   "metadata": {},
   "outputs": [],
   "source": [
    "# Import dataframes"
   ]
  },
  {
   "cell_type": "code",
   "execution_count": null,
   "id": "616598c4-1c96-4b2b-af86-7fa82442411f",
   "metadata": {},
   "outputs": [],
   "source": [
    "# Compare error relative to solution similar to figure 2"
   ]
  }
 ],
 "metadata": {
  "kernelspec": {
   "display_name": "Python 3 (ipykernel)",
   "language": "python",
   "name": "python3"
  },
  "language_info": {
   "codemirror_mode": {
    "name": "ipython",
    "version": 3
   },
   "file_extension": ".py",
   "mimetype": "text/x-python",
   "name": "python",
   "nbconvert_exporter": "python",
   "pygments_lexer": "ipython3",
   "version": "3.11.7"
  }
 },
 "nbformat": 4,
 "nbformat_minor": 5
}
